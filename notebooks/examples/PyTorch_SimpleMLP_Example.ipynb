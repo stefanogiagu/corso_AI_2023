{
  "cells": [
    {
      "cell_type": "markdown",
      "metadata": {
        "id": "view-in-github",
        "colab_type": "text"
      },
      "source": [
        "<a href=\"https://colab.research.google.com/github/stefanogiagu/corso_AI_2023/blob/main/notebooks/examples/PyTorch_SimpleMLP_Example.ipynb\" target=\"_parent\"><img src=\"https://colab.research.google.com/assets/colab-badge.svg\" alt=\"Open In Colab\"/></a>"
      ]
    },
    {
      "cell_type": "code",
      "execution_count": null,
      "metadata": {
        "id": "q_cd7xkhhQo6"
      },
      "outputs": [],
      "source": [
        "# Implementation of a basic pytorch MLP architecture to illustrate a tipical DL pipeline implemented in pytorch\n",
        "#\n",
        "# Stefano Giagu - v1.2 - 26.4.2023"
      ]
    },
    {
      "cell_type": "code",
      "execution_count": 1,
      "metadata": {
        "id": "F6cJhPLThtRq"
      },
      "outputs": [],
      "source": [
        "import numpy as np\n",
        "import matplotlib.pyplot as plt\n",
        "from scipy.stats import norm"
      ]
    },
    {
      "cell_type": "code",
      "execution_count": 2,
      "metadata": {
        "colab": {
          "base_uri": "https://localhost:8080/"
        },
        "id": "V3rnBiO-nwPM",
        "outputId": "f4802e14-16fa-4c36-ceb3-712169d86a52"
      },
      "outputs": [
        {
          "output_type": "stream",
          "name": "stdout",
          "text": [
            "2.0.0+cu118\n",
            "0.15.1+cu118\n"
          ]
        }
      ],
      "source": [
        "import torch\n",
        "import torchvision\n",
        "\n",
        "print(torch.__version__)\n",
        "print(torchvision.__version__)"
      ]
    },
    {
      "cell_type": "code",
      "execution_count": 3,
      "metadata": {
        "colab": {
          "base_uri": "https://localhost:8080/"
        },
        "id": "ZL2plVoan5H6",
        "outputId": "ca1a2395-9f4d-47a4-bbf1-9a16a5f24f48"
      },
      "outputs": [
        {
          "output_type": "stream",
          "name": "stdout",
          "text": [
            "number of devices:  1\n",
            "Tesla T4\n",
            "Computation device: cuda\n",
            "\n"
          ]
        }
      ],
      "source": [
        "# in torch/pytorch data and models must be moved in the specific processing unit\n",
        "# this code snippet allows to set the variable \"device\" according to available resurce (cpu or cuda gpu)\n",
        "\n",
        "if torch.cuda.is_available():\n",
        "  print('number of devices: ', torch.cuda.device_count())\n",
        "  print(torch.cuda.get_device_name(0))\n",
        "\n",
        "device = ('cuda' if torch.cuda.is_available() else 'cpu')\n",
        "print(f\"Computation device: {device}\\n\")"
      ]
    },
    {
      "cell_type": "code",
      "execution_count": 4,
      "metadata": {
        "colab": {
          "base_uri": "https://localhost:8080/"
        },
        "id": "1F3TrSrLuRJW",
        "outputId": "357437c1-1fdf-4a9c-e1d1-d107fbc5b709"
      },
      "outputs": [
        {
          "output_type": "stream",
          "name": "stdout",
          "text": [
            "(2560, 8)\n",
            "(2560,)\n",
            "(640, 8)\n",
            "(640,)\n",
            "(800, 8)\n",
            "(800,)\n"
          ]
        }
      ],
      "source": [
        "# Dataset: in this simple toy example, we'll produce a toy dataset generated using numpy \n",
        "# \n",
        "# task: a two class classification problem, with 8 uncorrelated features, gaussian distributed with different \n",
        "# means and variance among features and classes\n",
        "\n",
        "features_S = np.random.normal(loc=[-4.,-3.,-2.,-1.,1.,2.,3.,4.], scale=np.random.uniform(0.2,0.7,size=(8)), size=(2000,8))\n",
        "features_B = np.random.normal(loc=[-4.5,-3.5,-2.5,-1.5,1.5,2.5,3.5,4.5], scale=np.random.uniform(0.2,0.7,size=(8)), size=(2000,8))\n",
        "\n",
        "labels_S = np.zeros(shape=(2000)) #label 0 for class S\n",
        "labels_B = np.ones(shape=(2000))  #label 1 for class B\n",
        "\n",
        "# concatenate S and B in one dataset\n",
        "X = np.concatenate((features_S, features_B), axis=0)\n",
        "Y = np.concatenate((labels_S, labels_B), axis=0)\n",
        "\n",
        "# divide the dataset in train and test\n",
        "from sklearn.model_selection import train_test_split\n",
        "\n",
        "X_train, X_test, Y_train, Y_test = train_test_split(X, Y, test_size=0.2, shuffle=True, random_state=12345)\n",
        "X_train, X_vali, Y_train, Y_vali = train_test_split(X_train, Y_train, test_size=0.2, shuffle=True, random_state=456789)\n",
        "print(X_train.shape)\n",
        "print(Y_train.shape)\n",
        "print(X_vali.shape)\n",
        "print(Y_vali.shape)\n",
        "print(X_test.shape)\n",
        "print(Y_test.shape)"
      ]
    },
    {
      "cell_type": "code",
      "source": [
        "# plot variables\n",
        "\n",
        "sel_S = tuple([Y_train<0.5])\n",
        "sel_B = tuple([Y_train>0.5])\n",
        "\n",
        "for idx in range(8):\n",
        "  plt.subplot(2,4,idx+1)\n",
        "  plt.hist((X_train[sel_S])[:,idx], bins=50, range=[-6.,6.], alpha=0.5, log=True, density=True)\n",
        "  plt.hist((X_train[sel_B])[:,idx], bins=50, range=[-6.,6.], alpha=0.5, log=True, density=True)\n",
        "plt.tight_layout()"
      ],
      "metadata": {
        "colab": {
          "base_uri": "https://localhost:8080/",
          "height": 486
        },
        "id": "qHpIRa6SmFQO",
        "outputId": "6ada591f-44ae-434c-ed95-98d4352c0656"
      },
      "execution_count": 5,
      "outputs": [
        {
          "output_type": "display_data",
          "data": {
            "text/plain": [
              "<Figure size 640x480 with 8 Axes>"
            ],
            "image/png": "[encoded data removed]"
          },
          "metadata": {}
        }
      ]
    },
    {
      "cell_type": "code",
      "execution_count": 6,
      "metadata": {
        "colab": {
          "base_uri": "https://localhost:8080/"
        },
        "id": "u1Lymch5XTw8",
        "outputId": "9ce44eb9-1a8a-481a-94ae-b34420b4e389"
      },
      "outputs": [
        {
          "output_type": "stream",
          "name": "stdout",
          "text": [
            "torch.Size([2560, 8])\n",
            "torch.Size([2560])\n",
            "torch.Size([640, 8])\n",
            "torch.Size([640])\n",
            "torch.Size([800, 8])\n",
            "torch.Size([800])\n"
          ]
        }
      ],
      "source": [
        "# transform the numpy arrays to torch tensors (pytorch works with torch tensors)\n",
        "\n",
        "# in deep learning, tensors are a fundamental data structure that is very similar to arrays and matrices, \n",
        "# with which we can efficiently perform mathematical operations on large sets of data. A tensor can be represented \n",
        "# as a matrix, but also as a vector, a scalar, or a higher-dimensional array.\n",
        "\n",
        "# a torch tensor is a structure very similar to a numpy ndarray, with the difference that they are capable of running on a \n",
        "# GPU, which dramatically speeds up the computational process\n",
        "\n",
        "X_train_pt = torch.Tensor(X_train).float()\n",
        "Y_train_pt = torch.Tensor(Y_train).int()\n",
        "X_vali_pt = torch.Tensor(X_vali).float()\n",
        "Y_vali_pt = torch.Tensor(Y_vali).int()\n",
        "X_test_pt = torch.Tensor(X_test).float()\n",
        "Y_test_pt = torch.Tensor(Y_test).int()\n",
        "\n",
        "print(X_train_pt.shape)\n",
        "print(Y_train_pt.shape)\n",
        "print(X_vali_pt.shape)\n",
        "print(Y_vali_pt.shape)\n",
        "print(X_test_pt.shape)\n",
        "print(Y_test_pt.shape)"
      ]
    },
    {
      "cell_type": "code",
      "source": [
        "# create a pytorch dataset (a python abstraction that allows to load and process each sample of the dataset)\n",
        "# and a pytorch dataloader (a python iterable that allows to iterate among sample's events, taking care of \n",
        "# shuffling/sampling/weigthed sampling, batching, using multiprocessing to load the data. etc...\n",
        "\n",
        "from torch.utils.data import TensorDataset, DataLoader\n",
        "\n",
        "dataset_train = TensorDataset(X_train_pt, Y_train_pt) # a datset are pair of feature tensor, target tensor\n",
        "\n",
        "dataloader_train = DataLoader(dataset_train, batch_size=32, shuffle=True) #the dataset will be shuffled and batched in mini batch of 32 event each\n",
        "\n",
        "dataset_vali = TensorDataset(X_vali_pt, Y_vali_pt) \n",
        "dataloader_vali = DataLoader(dataset_vali, batch_size=32, shuffle=True) "
      ],
      "metadata": {
        "id": "YDjI_rZH9mjE"
      },
      "execution_count": 7,
      "outputs": []
    },
    {
      "cell_type": "code",
      "source": [
        "# example of iteration through the dataloader\n",
        "\n",
        "train_features, train_labels = next(iter(dataloader_train))\n",
        "\n",
        "print(f\"Feature batch shape: {train_features.size()}\")\n",
        "print(f\"Labels batch shape: {train_labels.size()}\")\n",
        "\n",
        "an_event = train_features[0].squeeze()\n",
        "a_label = train_labels[0]\n",
        "\n",
        "print(f\"Feature: {an_event}\")\n",
        "print(f\"Label: {a_label}\")"
      ],
      "metadata": {
        "colab": {
          "base_uri": "https://localhost:8080/"
        },
        "id": "hzLJyiBNvZVg",
        "outputId": "6299d487-6fa8-4e95-926b-a93615fd7c8f"
      },
      "execution_count": 9,
      "outputs": [
        {
          "output_type": "stream",
          "name": "stdout",
          "text": [
            "Feature batch shape: torch.Size([32, 8])\n",
            "Labels batch shape: torch.Size([32])\n",
            "Feature: tensor([-4.3248, -3.7378, -2.9276, -1.6957,  1.4673,  2.6675,  3.9194,  4.5849])\n",
            "Label: 1\n"
          ]
        }
      ]
    },
    {
      "cell_type": "code",
      "source": [
        "# note: move torch tensors between cpu and gpu\n",
        "\n",
        "print('X_train_pt is in GPU: ', X_train_pt.is_cuda)\n",
        "X_train_pt = X_train_pt.to(device)\n",
        "print('X_train_pt is in GPU: ', X_train_pt.is_cuda)\n",
        "X_train_pt = X_train_pt.to('cpu')\n",
        "print('X_train_pt is in GPU: ', X_train_pt.is_cuda)\n",
        "\n",
        "\n",
        "# alteranative way (earlier torch style)\n",
        "# use .cuda() e .cpu()\n",
        "print('X_train_pt is in GPU: ', X_train_pt.cpu())\n",
        "print('X_train_pt is in GPU: ', X_train_pt.cuda())"
      ],
      "metadata": {
        "colab": {
          "base_uri": "https://localhost:8080/"
        },
        "id": "eL6Lhlndh3Ee",
        "outputId": "25aba593-f728-4a02-c373-0fa8ba59fc93"
      },
      "execution_count": 8,
      "outputs": [
        {
          "output_type": "stream",
          "name": "stdout",
          "text": [
            "X_train_pt is in GPU:  False\n",
            "X_train_pt is in GPU:  True\n",
            "X_train_pt is in GPU:  False\n",
            "X_train_pt is in GPU:  tensor([[-4.4294, -3.1727, -1.8277,  ...,  2.8967,  3.1556,  5.2151],\n",
            "        [-4.2175, -2.9328, -1.9601,  ...,  2.8143,  3.6384,  4.3580],\n",
            "        [-4.6253, -3.4915, -1.9062,  ...,  1.6677,  3.2720,  4.7680],\n",
            "        ...,\n",
            "        [-3.9606, -3.8101, -1.7732,  ...,  2.6597,  3.2526,  4.2049],\n",
            "        [-3.9449, -3.7184, -1.6111,  ...,  1.8121,  4.1046,  4.8630],\n",
            "        [-4.3935, -3.9709, -3.0241,  ...,  2.6542,  3.6785,  3.7905]])\n",
            "X_train_pt is in GPU:  tensor([[-4.4294, -3.1727, -1.8277,  ...,  2.8967,  3.1556,  5.2151],\n",
            "        [-4.2175, -2.9328, -1.9601,  ...,  2.8143,  3.6384,  4.3580],\n",
            "        [-4.6253, -3.4915, -1.9062,  ...,  1.6677,  3.2720,  4.7680],\n",
            "        ...,\n",
            "        [-3.9606, -3.8101, -1.7732,  ...,  2.6597,  3.2526,  4.2049],\n",
            "        [-3.9449, -3.7184, -1.6111,  ...,  1.8121,  4.1046,  4.8630],\n",
            "        [-4.3935, -3.9709, -3.0241,  ...,  2.6542,  3.6785,  3.7905]],\n",
            "       device='cuda:0')\n"
          ]
        }
      ]
    },
    {
      "cell_type": "code",
      "execution_count": 10,
      "metadata": {
        "id": "At2pTSb5uJ0O"
      },
      "outputs": [],
      "source": [
        "# a pytorch nn model: it is just a python class inheriting from nn.Module that defines \n",
        "# the layers and activations used in the DNN model and a forward(x) method that defines \n",
        "# how the model act on an input example x\n",
        "\n",
        "from torch import nn\n",
        "import torch.nn.functional as F\n",
        "\n",
        "# as a basic example let'd define a shallow ANN with a dense layer with 20 neurons\n",
        "class ShallowANN(nn.Module):\n",
        "  def __init__(self, input_dim):\n",
        "    super(ShallowANN, self).__init__()\n",
        "    \n",
        "    #torch.nn.Linear(in_features, out_features, bias=True, device=None, dtype=None)\n",
        "    #Linear in pytorch is the equivalent of Dense in keras\n",
        "    self.layer1 = nn.Linear(input_dim, 20)\n",
        "    self.activ1 = nn.ReLU()\n",
        "    self.layer2 = nn.Linear(20, 1)\n",
        "    self.activ2 = nn.Sigmoid()\n",
        "    \n",
        "  def forward(self, x):\n",
        "    out = self.layer1(x) \n",
        "    out = self.activ1(out) \n",
        "    out = self.layer2(out) #alternatively the two statements can be replaced \n",
        "    out = self.activ2(out) #out = torch.sigmoid(self.layer2(out))\n",
        "    return out\n",
        "\n",
        "# note: it is strightfoward to modify the class to implement a MLP\n",
        "\n",
        "# example MLP: with 3 hidden layers\n",
        "\n",
        "class MyMLP(nn.Module):\n",
        "  def __init__(self):\n",
        "    super(MyMLP, self).__init__()\n",
        "    \n",
        "    self.layer1 = nn.Linear(8, 20)\n",
        "    self.activ1 = nn.ReLU()\n",
        "    self.layer2 = nn.Linear(20, 50)\n",
        "    self.activ2 = nn.ReLU()\n",
        "    self.layer3 = nn.Linear(50, 100)\n",
        "    self.activ3 = nn.ReLU()\n",
        "    self.layer4 = nn.Linear(100, 1)\n",
        "    self.activ4 = nn.Sigmoid()\n",
        "    \n",
        "  def forward(self, x):\n",
        "    out = self.layer1(x)\n",
        "    out = self.activ1(out)\n",
        "    out = self.layer2(out)\n",
        "    out = self.activ2(out)\n",
        "    out = self.layer3(out)\n",
        "    out = self.activ3(out)\n",
        "    out = self.layer4(out)\n",
        "    out = self.activ4(out)\n",
        "    return out\n",
        "\n",
        "\n",
        "# alternative implementation \n",
        "class MyMLP2(nn.Module):\n",
        "  def __init__(self):\n",
        "    super(MyMLP2, self).__init__()\n",
        "\n",
        "    self.mlp_block = nn.Sequential( #similar to keras keras.Sequential module\n",
        "      nn.Linear(8, 20),\n",
        "      nn.ReLU(),\n",
        "      nn.Linear(20, 50),\n",
        "      nn.ReLU(),\n",
        "      nn.Linear(50, 100),\n",
        "      nn.ReLU()\n",
        "    )\n",
        "    \n",
        "    self.out_block = nn.Linear(100, 1)\n",
        "    \n",
        "  def forward(self, x):\n",
        "    out = torch.sigmoid(self.out_block(self.mlp(x)))\n",
        "    return out"
      ]
    },
    {
      "cell_type": "code",
      "execution_count": 11,
      "metadata": {
        "colab": {
          "base_uri": "https://localhost:8080/"
        },
        "id": "CW_NlvdnuRJZ",
        "outputId": "570481d8-ad2c-48e9-fc16-9144ae704727"
      },
      "outputs": [
        {
          "output_type": "stream",
          "name": "stdout",
          "text": [
            "Looking in indexes: https://pypi.org/simple, https://us-python.pkg.dev/colab-wheels/public/simple/\n",
            "Requirement already satisfied: torchsummary in /usr/local/lib/python3.9/dist-packages (1.5.1)\n"
          ]
        }
      ],
      "source": [
        "%pip install torchsummary"
      ]
    },
    {
      "cell_type": "code",
      "execution_count": 13,
      "metadata": {
        "colab": {
          "base_uri": "https://localhost:8080/"
        },
        "id": "uaLMNMzt1TAK",
        "outputId": "bc9a4e33-430c-4801-b8f6-d025c06770e8"
      },
      "outputs": [
        {
          "output_type": "stream",
          "name": "stdout",
          "text": [
            "ShallowANN(\n",
            "  (layer1): Linear(in_features=8, out_features=20, bias=True)\n",
            "  (activ1): ReLU()\n",
            "  (layer2): Linear(in_features=20, out_features=1, bias=True)\n",
            "  (activ2): Sigmoid()\n",
            ")\n",
            "----------------------------------------------------------------\n",
            "        Layer (type)               Output Shape         Param #\n",
            "================================================================\n",
            "            Linear-1                [-1, 1, 20]             180\n",
            "              ReLU-2                [-1, 1, 20]               0\n",
            "            Linear-3                 [-1, 1, 1]              21\n",
            "           Sigmoid-4                 [-1, 1, 1]               0\n",
            "================================================================\n",
            "Total params: 201\n",
            "Trainable params: 201\n",
            "Non-trainable params: 0\n",
            "----------------------------------------------------------------\n",
            "Input size (MB): 0.00\n",
            "Forward/backward pass size (MB): 0.00\n",
            "Params size (MB): 0.00\n",
            "Estimated Total Size (MB): 0.00\n",
            "----------------------------------------------------------------\n"
          ]
        }
      ],
      "source": [
        "# print the model architecture\n",
        "\n",
        "# simple printing\n",
        "model = ShallowANN(input_dim=8)\n",
        "print(model)\n",
        "\n",
        "# torchsummary (keras-like) printing\n",
        "from torchsummary import summary\n",
        "if torch.cuda.is_available():\n",
        "  summary(model.cuda(), input_size=(1,8))\n",
        "else:\n",
        "  summary(model, input_size=(1,8))"
      ]
    },
    {
      "cell_type": "code",
      "execution_count": 15,
      "metadata": {
        "colab": {
          "base_uri": "https://localhost:8080/"
        },
        "id": "qKuuD7vzrdff",
        "outputId": "3986eea2-d39d-40df-d7fb-32771a8c7c86"
      },
      "outputs": [
        {
          "output_type": "stream",
          "name": "stdout",
          "text": [
            "model is on GPU:  True\n"
          ]
        }
      ],
      "source": [
        "# instantiate a new model (reset weight etc) and put it on GPU\n",
        "model = ShallowANN(input_dim=8)\n",
        "model.to(device)\n",
        "print('model is on GPU: ',next(model.parameters()).is_cuda)"
      ]
    },
    {
      "cell_type": "code",
      "source": [
        "#install torchmetrics: collection of useful PyTorch metrics implementations and an easy-to-use API to create custom metrics\n",
        "%pip install torchmetrics"
      ],
      "metadata": {
        "colab": {
          "base_uri": "https://localhost:8080/"
        },
        "id": "bn2FIc6jlvnz",
        "outputId": "01d8d115-ff0b-4123-8ead-574aad510f9f"
      },
      "execution_count": 14,
      "outputs": [
        {
          "output_type": "stream",
          "name": "stdout",
          "text": [
            "Looking in indexes: https://pypi.org/simple, https://us-python.pkg.dev/colab-wheels/public/simple/\n",
            "Collecting torchmetrics\n",
            "  Downloading torchmetrics-0.11.4-py3-none-any.whl (519 kB)\n",
            "\u001b[2K     \u001b[90m━━━━━━━━━━━━━━━━━━━━━━━━━━━━━━━━━━━━━━\u001b[0m \u001b[32m519.2/519.2 kB\u001b[0m \u001b[31m14.4 MB/s\u001b[0m eta \u001b[36m0:00:00\u001b[0m\n",
            "\u001b[?25hRequirement already satisfied: numpy>=1.17.2 in /usr/local/lib/python3.9/dist-packages (from torchmetrics) (1.22.4)\n",
            "Requirement already satisfied: packaging in /usr/local/lib/python3.9/dist-packages (from torchmetrics) (23.1)\n",
            "Requirement already satisfied: torch>=1.8.1 in /usr/local/lib/python3.9/dist-packages (from torchmetrics) (2.0.0+cu118)\n",
            "Requirement already satisfied: networkx in /usr/local/lib/python3.9/dist-packages (from torch>=1.8.1->torchmetrics) (3.1)\n",
            "Requirement already satisfied: triton==2.0.0 in /usr/local/lib/python3.9/dist-packages (from torch>=1.8.1->torchmetrics) (2.0.0)\n",
            "Requirement already satisfied: sympy in /usr/local/lib/python3.9/dist-packages (from torch>=1.8.1->torchmetrics) (1.11.1)\n",
            "Requirement already satisfied: filelock in /usr/local/lib/python3.9/dist-packages (from torch>=1.8.1->torchmetrics) (3.11.0)\n",
            "Requirement already satisfied: typing-extensions in /usr/local/lib/python3.9/dist-packages (from torch>=1.8.1->torchmetrics) (4.5.0)\n",
            "Requirement already satisfied: jinja2 in /usr/local/lib/python3.9/dist-packages (from torch>=1.8.1->torchmetrics) (3.1.2)\n",
            "Requirement already satisfied: lit in /usr/local/lib/python3.9/dist-packages (from triton==2.0.0->torch>=1.8.1->torchmetrics) (16.0.1)\n",
            "Requirement already satisfied: cmake in /usr/local/lib/python3.9/dist-packages (from triton==2.0.0->torch>=1.8.1->torchmetrics) (3.25.2)\n",
            "Requirement already satisfied: MarkupSafe>=2.0 in /usr/local/lib/python3.9/dist-packages (from jinja2->torch>=1.8.1->torchmetrics) (2.1.2)\n",
            "Requirement already satisfied: mpmath>=0.19 in /usr/local/lib/python3.9/dist-packages (from sympy->torch>=1.8.1->torchmetrics) (1.3.0)\n",
            "Installing collected packages: torchmetrics\n",
            "Successfully installed torchmetrics-0.11.4\n"
          ]
        }
      ]
    },
    {
      "cell_type": "code",
      "execution_count": 16,
      "metadata": {
        "id": "asMI2TET1_wS"
      },
      "outputs": [],
      "source": [
        "#loss function\n",
        "\n",
        "# in classificiation task the most used loos ic cross-entropy. In pytorch we have:\n",
        "# BCELoss for binary classification \n",
        "# CrossEntropyLoss for multiclass classification (NOTE: CrossEntropyLoss already includes softmax calculation internally, so output of \n",
        "# the ANN foward method must be logits (eg no softmax/sigmoid))\n",
        "\n",
        "loss_func = nn.BCELoss() #binary cross entropy loss\n",
        "\n",
        "# metrics\n",
        "# binary accuracy:  torchmetrics.functional.classification.binary_accuracy(preds, target)\n",
        "import torchmetrics\n",
        "from torchmetrics.functional.classification import binary_accuracy\n",
        "\n",
        "metric_func = binary_accuracy\n",
        "\n",
        "# altrenatively you can wroiwritete your own binary accuracy metric\n",
        "def my_binary_accuracy(yhat, y):\n",
        "  assert y.ndim == 1 and y.size() == yhat.size()\n",
        "  yhat = yhat > 0.5\n",
        "  return (y == yhat).sum().item() / y.size(0)\n",
        "\n",
        "my_metric_func = my_binary_accuracy\n",
        "\n",
        "\n",
        "# optimizer\n",
        "\n",
        "from torch import optim\n",
        "\n",
        "# plain SGD + momentum\n",
        "#opt = optim.SGD(model.parameters(), lr=0.001, momentum=0.9)\n",
        "\n",
        "# or for example\n",
        "\n",
        "opt = optim.Adam(model.parameters(), lr=1e-3)\n",
        "\n",
        "# scheduler for multi step decay lr schedule\n",
        "# Decays the learning rate of each parameter group by gamma once the number of epoch reaches one of the milestones\n",
        "#lr_scheduler = optim.lr_scheduler.MultiStepLR(opt, milestones=[20,40,60], gamma=0.1)"
      ]
    },
    {
      "cell_type": "code",
      "source": [
        "# test implementation on one batch before to train\n",
        "xb,yb = next(iter(dataloader_train))\n",
        "\n",
        "xb=xb.type(torch.float).to(device) #put tensors on device\n",
        "yb=yb.type(torch.float).to(device)\n",
        "\n",
        "# prediction\n",
        "\n",
        "pred = model(xb)\n",
        "print('output shape: ', pred.shape)\n",
        "\n",
        "# loss and metric\n",
        "loss = loss_func(pred, torch.unsqueeze(yb,1))\n",
        "metric = metric_func(pred, torch.unsqueeze(yb,1))\n",
        "#or also: metric = metric_func(torch.squeeze(pred), yb)\n",
        "mymetric = my_metric_func(torch.squeeze(pred), yb)\n",
        "\n",
        "print('loss: ', loss.item())\n",
        "print('metric: ', metric.item())\n",
        "print('my_metric: ', mymetric)"
      ],
      "metadata": {
        "colab": {
          "base_uri": "https://localhost:8080/"
        },
        "id": "6Aev66vFnbiq",
        "outputId": "8b085bcd-8c14-4f6a-d6af-ea2a6a207544"
      },
      "execution_count": 17,
      "outputs": [
        {
          "output_type": "stream",
          "name": "stdout",
          "text": [
            "output shape:  torch.Size([32, 1])\n",
            "loss:  0.7264176607131958\n",
            "metric:  0.375\n",
            "my_metric:  0.375\n"
          ]
        }
      ]
    },
    {
      "cell_type": "code",
      "execution_count": 18,
      "metadata": {
        "colab": {
          "base_uri": "https://localhost:8080/"
        },
        "id": "ULR6JSud2M0e",
        "outputId": "5d427fd6-4005-407a-88a7-b22748bd0d4d"
      },
      "outputs": [
        {
          "output_type": "stream",
          "name": "stdout",
          "text": [
            "epoch: 1, time(s): 0.4519, train loss: 0.680480, train metric: 0.574609, vali loss: 0.651798, vali metric: 0.687500\n",
            "epoch: 2, time(s): 0.1968, train loss: 0.634341, train metric: 0.687109, vali loss: 0.623687, vali metric: 0.615625\n",
            "epoch: 3, time(s): 0.2028, train loss: 0.602669, train metric: 0.722656, vali loss: 0.587498, vali metric: 0.725000\n",
            "epoch: 4, time(s): 0.2002, train loss: 0.573232, train metric: 0.736719, vali loss: 0.556717, vali metric: 0.759375\n",
            "epoch: 5, time(s): 0.1937, train loss: 0.546561, train metric: 0.762500, vali loss: 0.527446, vali metric: 0.770312\n",
            "epoch: 6, time(s): 0.1957, train loss: 0.525122, train metric: 0.764453, vali loss: 0.509656, vali metric: 0.767188\n",
            "epoch: 7, time(s): 0.1951, train loss: 0.504619, train metric: 0.770703, vali loss: 0.482071, vali metric: 0.793750\n",
            "epoch: 8, time(s): 0.1890, train loss: 0.490064, train metric: 0.786719, vali loss: 0.469158, vali metric: 0.779687\n",
            "epoch: 9, time(s): 0.1999, train loss: 0.476382, train metric: 0.782031, vali loss: 0.448704, vali metric: 0.806250\n",
            "epoch: 10, time(s): 0.2002, train loss: 0.464487, train metric: 0.787891, vali loss: 0.439236, vali metric: 0.800000\n",
            "epoch: 11, time(s): 0.1994, train loss: 0.455935, train metric: 0.798828, vali loss: 0.421599, vali metric: 0.826562\n",
            "epoch: 12, time(s): 0.2030, train loss: 0.442799, train metric: 0.802344, vali loss: 0.409612, vali metric: 0.835938\n",
            "epoch: 13, time(s): 0.1951, train loss: 0.432991, train metric: 0.804688, vali loss: 0.400248, vali metric: 0.825000\n",
            "epoch: 14, time(s): 0.2079, train loss: 0.422757, train metric: 0.811328, vali loss: 0.388264, vali metric: 0.845313\n",
            "epoch: 15, time(s): 0.2178, train loss: 0.413889, train metric: 0.823438, vali loss: 0.379564, vali metric: 0.850000\n",
            "epoch: 16, time(s): 0.1888, train loss: 0.406201, train metric: 0.823828, vali loss: 0.370381, vali metric: 0.850000\n",
            "epoch: 17, time(s): 0.1877, train loss: 0.397429, train metric: 0.832031, vali loss: 0.359223, vali metric: 0.859375\n",
            "epoch: 18, time(s): 0.1905, train loss: 0.390507, train metric: 0.834766, vali loss: 0.360269, vali metric: 0.840625\n",
            "epoch: 19, time(s): 0.1930, train loss: 0.381900, train metric: 0.836719, vali loss: 0.341467, vali metric: 0.870313\n",
            "epoch: 20, time(s): 0.1972, train loss: 0.375215, train metric: 0.840625, vali loss: 0.332973, vali metric: 0.876563\n",
            "epoch: 21, time(s): 0.1983, train loss: 0.369300, train metric: 0.841016, vali loss: 0.332535, vali metric: 0.868750\n",
            "epoch: 22, time(s): 0.1913, train loss: 0.361097, train metric: 0.849219, vali loss: 0.318652, vali metric: 0.889062\n",
            "epoch: 23, time(s): 0.1993, train loss: 0.355871, train metric: 0.850781, vali loss: 0.311037, vali metric: 0.884375\n",
            "epoch: 24, time(s): 0.1967, train loss: 0.346639, train metric: 0.856641, vali loss: 0.304184, vali metric: 0.892188\n",
            "epoch: 25, time(s): 0.2036, train loss: 0.340365, train metric: 0.862500, vali loss: 0.297919, vali metric: 0.895312\n",
            "epoch: 26, time(s): 0.1992, train loss: 0.337980, train metric: 0.860938, vali loss: 0.291310, vali metric: 0.906250\n",
            "epoch: 27, time(s): 0.1923, train loss: 0.330165, train metric: 0.863281, vali loss: 0.284661, vali metric: 0.909375\n",
            "epoch: 28, time(s): 0.1884, train loss: 0.323417, train metric: 0.869531, vali loss: 0.288563, vali metric: 0.887500\n",
            "epoch: 29, time(s): 0.1907, train loss: 0.319980, train metric: 0.875781, vali loss: 0.273458, vali metric: 0.917188\n",
            "epoch: 30, time(s): 0.1951, train loss: 0.315619, train metric: 0.875000, vali loss: 0.268776, vali metric: 0.917188\n",
            "epoch: 31, time(s): 0.1934, train loss: 0.308823, train metric: 0.881250, vali loss: 0.262666, vali metric: 0.925000\n",
            "epoch: 32, time(s): 0.1884, train loss: 0.301745, train metric: 0.887500, vali loss: 0.259348, vali metric: 0.918750\n",
            "epoch: 33, time(s): 0.2054, train loss: 0.298562, train metric: 0.887109, vali loss: 0.264506, vali metric: 0.893750\n",
            "epoch: 34, time(s): 0.1892, train loss: 0.292385, train metric: 0.888281, vali loss: 0.247819, vali metric: 0.929688\n",
            "epoch: 35, time(s): 0.3103, train loss: 0.289227, train metric: 0.894531, vali loss: 0.243106, vali metric: 0.932813\n",
            "epoch: 36, time(s): 0.3567, train loss: 0.284360, train metric: 0.894922, vali loss: 0.239135, vali metric: 0.935937\n",
            "epoch: 37, time(s): 0.3775, train loss: 0.279104, train metric: 0.897656, vali loss: 0.235140, vali metric: 0.935937\n",
            "epoch: 38, time(s): 0.3215, train loss: 0.277005, train metric: 0.897656, vali loss: 0.240967, vali metric: 0.931250\n",
            "epoch: 39, time(s): 0.5343, train loss: 0.270821, train metric: 0.899219, vali loss: 0.227818, vali metric: 0.935937\n",
            "epoch: 40, time(s): 0.7430, train loss: 0.266943, train metric: 0.904687, vali loss: 0.225752, vali metric: 0.939063\n",
            "epoch: 41, time(s): 0.2093, train loss: 0.263932, train metric: 0.904297, vali loss: 0.221272, vali metric: 0.939063\n",
            "epoch: 42, time(s): 0.1923, train loss: 0.259733, train metric: 0.909766, vali loss: 0.219630, vali metric: 0.946875\n",
            "epoch: 43, time(s): 0.1937, train loss: 0.253697, train metric: 0.910547, vali loss: 0.212781, vali metric: 0.940625\n",
            "epoch: 44, time(s): 0.2518, train loss: 0.252152, train metric: 0.907813, vali loss: 0.209610, vali metric: 0.943750\n",
            "epoch: 45, time(s): 0.2534, train loss: 0.249416, train metric: 0.910547, vali loss: 0.207677, vali metric: 0.943750\n",
            "epoch: 46, time(s): 0.2453, train loss: 0.244463, train metric: 0.915625, vali loss: 0.203879, vali metric: 0.943750\n",
            "epoch: 47, time(s): 0.2461, train loss: 0.242917, train metric: 0.913281, vali loss: 0.203285, vali metric: 0.948438\n",
            "epoch: 48, time(s): 0.2586, train loss: 0.238091, train metric: 0.914844, vali loss: 0.198471, vali metric: 0.946875\n",
            "epoch: 49, time(s): 0.2515, train loss: 0.236266, train metric: 0.917969, vali loss: 0.196372, vali metric: 0.945312\n",
            "epoch: 50, time(s): 0.2486, train loss: 0.231341, train metric: 0.916016, vali loss: 0.199911, vali metric: 0.948438\n",
            "epoch: 51, time(s): 0.2584, train loss: 0.229354, train metric: 0.920703, vali loss: 0.198168, vali metric: 0.935937\n",
            "epoch: 52, time(s): 0.2804, train loss: 0.227152, train metric: 0.919922, vali loss: 0.196185, vali metric: 0.942187\n",
            "epoch: 53, time(s): 0.1981, train loss: 0.227384, train metric: 0.919531, vali loss: 0.186841, vali metric: 0.950000\n",
            "epoch: 54, time(s): 0.1909, train loss: 0.223227, train metric: 0.916797, vali loss: 0.187013, vali metric: 0.946875\n",
            "epoch: 55, time(s): 0.2085, train loss: 0.220605, train metric: 0.919141, vali loss: 0.183471, vali metric: 0.950000\n",
            "epoch: 56, time(s): 0.2032, train loss: 0.217828, train metric: 0.923828, vali loss: 0.180440, vali metric: 0.946875\n",
            "epoch: 57, time(s): 0.1991, train loss: 0.216688, train metric: 0.923828, vali loss: 0.187140, vali metric: 0.932813\n",
            "epoch: 58, time(s): 0.2011, train loss: 0.214959, train metric: 0.923828, vali loss: 0.178545, vali metric: 0.948438\n",
            "epoch: 59, time(s): 0.1920, train loss: 0.214843, train metric: 0.921875, vali loss: 0.175714, vali metric: 0.951562\n",
            "epoch: 60, time(s): 0.1946, train loss: 0.210717, train metric: 0.925781, vali loss: 0.177088, vali metric: 0.945312\n",
            "epoch: 61, time(s): 0.1940, train loss: 0.210430, train metric: 0.923828, vali loss: 0.172418, vali metric: 0.951562\n",
            "epoch: 62, time(s): 0.2095, train loss: 0.207954, train metric: 0.928125, vali loss: 0.171871, vali metric: 0.948438\n",
            "epoch: 63, time(s): 0.1982, train loss: 0.205677, train metric: 0.927734, vali loss: 0.170286, vali metric: 0.950000\n",
            "epoch: 64, time(s): 0.2082, train loss: 0.203955, train metric: 0.928125, vali loss: 0.172062, vali metric: 0.942187\n",
            "epoch: 65, time(s): 0.2033, train loss: 0.201012, train metric: 0.926953, vali loss: 0.169468, vali metric: 0.942187\n",
            "epoch: 66, time(s): 0.1968, train loss: 0.201273, train metric: 0.925391, vali loss: 0.165936, vali metric: 0.950000\n",
            "epoch: 67, time(s): 0.2045, train loss: 0.197848, train metric: 0.930078, vali loss: 0.168182, vali metric: 0.951562\n",
            "epoch: 68, time(s): 0.1950, train loss: 0.201359, train metric: 0.926953, vali loss: 0.165430, vali metric: 0.945312\n",
            "epoch: 69, time(s): 0.1938, train loss: 0.199457, train metric: 0.927734, vali loss: 0.162799, vali metric: 0.951562\n",
            "epoch: 70, time(s): 0.1936, train loss: 0.195459, train metric: 0.928516, vali loss: 0.165128, vali metric: 0.951562\n",
            "epoch: 71, time(s): 0.1954, train loss: 0.193818, train metric: 0.928516, vali loss: 0.165365, vali metric: 0.950000\n",
            "epoch: 72, time(s): 0.2001, train loss: 0.195655, train metric: 0.928906, vali loss: 0.160895, vali metric: 0.943750\n",
            "epoch: 73, time(s): 0.1971, train loss: 0.192311, train metric: 0.929297, vali loss: 0.158837, vali metric: 0.953125\n",
            "epoch: 74, time(s): 0.1885, train loss: 0.196016, train metric: 0.930859, vali loss: 0.159697, vali metric: 0.943750\n",
            "epoch: 75, time(s): 0.2304, train loss: 0.190222, train metric: 0.928125, vali loss: 0.160467, vali metric: 0.950000\n",
            "epoch: 76, time(s): 0.1997, train loss: 0.189721, train metric: 0.930469, vali loss: 0.169019, vali metric: 0.935937\n",
            "epoch: 77, time(s): 0.2616, train loss: 0.188118, train metric: 0.931250, vali loss: 0.159426, vali metric: 0.942187\n",
            "epoch: 78, time(s): 0.4994, train loss: 0.188665, train metric: 0.930859, vali loss: 0.160368, vali metric: 0.939063\n",
            "epoch: 79, time(s): 0.5674, train loss: 0.185628, train metric: 0.931250, vali loss: 0.168910, vali metric: 0.942187\n",
            "epoch: 80, time(s): 0.4299, train loss: 0.192826, train metric: 0.928125, vali loss: 0.163343, vali metric: 0.935937\n",
            "epoch: 81, time(s): 0.2049, train loss: 0.187228, train metric: 0.929688, vali loss: 0.152721, vali metric: 0.953125\n",
            "epoch: 82, time(s): 0.1996, train loss: 0.187050, train metric: 0.934766, vali loss: 0.157991, vali metric: 0.939063\n",
            "epoch: 83, time(s): 0.1996, train loss: 0.183997, train metric: 0.928516, vali loss: 0.151200, vali metric: 0.950000\n",
            "epoch: 84, time(s): 0.1947, train loss: 0.182822, train metric: 0.930469, vali loss: 0.151625, vali metric: 0.945312\n",
            "epoch: 85, time(s): 0.2042, train loss: 0.182398, train metric: 0.930859, vali loss: 0.150057, vali metric: 0.951562\n",
            "epoch: 86, time(s): 0.1977, train loss: 0.180437, train metric: 0.933203, vali loss: 0.151192, vali metric: 0.951562\n",
            "epoch: 87, time(s): 0.2015, train loss: 0.180884, train metric: 0.932031, vali loss: 0.149599, vali metric: 0.945312\n",
            "epoch: 88, time(s): 0.1929, train loss: 0.181965, train metric: 0.934375, vali loss: 0.148823, vali metric: 0.950000\n",
            "epoch: 89, time(s): 0.1930, train loss: 0.181627, train metric: 0.927734, vali loss: 0.151499, vali metric: 0.948438\n",
            "epoch: 90, time(s): 0.1892, train loss: 0.184986, train metric: 0.930078, vali loss: 0.150464, vali metric: 0.950000\n",
            "epoch: 91, time(s): 0.1994, train loss: 0.177299, train metric: 0.932813, vali loss: 0.148520, vali metric: 0.951562\n",
            "epoch: 92, time(s): 0.1923, train loss: 0.179032, train metric: 0.932031, vali loss: 0.153660, vali metric: 0.948438\n",
            "epoch: 93, time(s): 0.2087, train loss: 0.178318, train metric: 0.929297, vali loss: 0.154449, vali metric: 0.939063\n",
            "epoch: 94, time(s): 0.1930, train loss: 0.177059, train metric: 0.931250, vali loss: 0.148302, vali metric: 0.950000\n",
            "epoch: 95, time(s): 0.1924, train loss: 0.177940, train metric: 0.930469, vali loss: 0.145993, vali metric: 0.950000\n",
            "epoch: 96, time(s): 0.2000, train loss: 0.177660, train metric: 0.932422, vali loss: 0.149034, vali metric: 0.948438\n",
            "epoch: 97, time(s): 0.1998, train loss: 0.177334, train metric: 0.930469, vali loss: 0.148494, vali metric: 0.946875\n",
            "epoch: 98, time(s): 0.2438, train loss: 0.177307, train metric: 0.929688, vali loss: 0.145337, vali metric: 0.946875\n",
            "epoch: 99, time(s): 0.2619, train loss: 0.173925, train metric: 0.934766, vali loss: 0.144453, vali metric: 0.954688\n",
            "epoch: 100, time(s): 0.2520, train loss: 0.175697, train metric: 0.930469, vali loss: 0.144569, vali metric: 0.948438\n"
          ]
        }
      ],
      "source": [
        "# training loop (in pytorch you need to write yourself  (eg no .fit() method like in sklearn) \n",
        "# (alternatively use PyTorch Lightning for more keras-like APIs))\n",
        "\n",
        "import time\n",
        "epochs = 100\n",
        "\n",
        "# define a couple of lists to store loss and accuracy during training for monitorin purposes\n",
        "hist_loss = []\n",
        "hist_metric = []\n",
        "hist_val_loss = []\n",
        "hist_val_metric = []\n",
        "\n",
        "#-----\n",
        "for epoch in range(epochs): # loop over epochs\n",
        "    t0 = time.time()\n",
        "    \n",
        "    #training step\n",
        "    model.train() #important!\n",
        "\n",
        "    train_loss = 0.0\n",
        "    train_metric = 0.0\n",
        "    counter = 0\n",
        "    \n",
        "    for xb, yb in dataloader_train: #loop over minibatches\n",
        "        counter += 1\n",
        "\n",
        "        #move data and target to device\n",
        "        xb=xb.type(torch.float).to(device)\n",
        "        yb=yb.type(torch.float).to(device)\n",
        "\n",
        "        #get model prediction\n",
        "        pred = model(xb)\n",
        "\n",
        "        # compute loss\n",
        "        loss = loss_func(pred, torch.unsqueeze(yb,1))\n",
        "\n",
        "        # compute metric\n",
        "\n",
        "        metric = metric_func(pred, torch.unsqueeze(yb,1))\n",
        "        train_loss += loss.item()\n",
        "        train_metric += metric.item()\n",
        "\n",
        "        # backpropagation\n",
        "        loss.backward()\n",
        "        opt.step()\n",
        "        opt.zero_grad()\n",
        " \n",
        "    train_loss = train_loss/counter\n",
        "    train_metric = train_metric/counter\n",
        "\n",
        "    hist_loss.append(train_loss)\n",
        "    hist_metric.append(train_metric)\n",
        "\n",
        "#-----\n",
        "    # validation step\n",
        "    model.eval() #important! will set layers that have different behavior in training vs validation (ex. dropout) for validation\n",
        "\n",
        "    vali_loss = 0.0\n",
        "    vali_metric = 0.0\n",
        "    counter = 0\n",
        "    \n",
        "    with torch.no_grad(): #disable gradients calculation in autograd (it will reduce memory consumption for computations)\n",
        "      for xb, yb in dataloader_vali:\n",
        "        counter += 1\n",
        "        xb=xb.type(torch.float).to(device)\n",
        "        yb=yb.type(torch.float).to(device)\n",
        "        pred = model(xb)\n",
        "        vloss = loss_func(pred, torch.unsqueeze(yb,1))\n",
        "        vmetric = metric_func(pred, torch.unsqueeze(yb,1))\n",
        "        vali_loss += vloss.item()\n",
        "        vali_metric += vmetric.item()\n",
        "        \n",
        "    vali_loss = vali_loss/counter\n",
        "    vali_metric = vali_metric/counter    \n",
        "\n",
        "    hist_val_loss.append(vali_loss)\n",
        "    hist_val_metric.append(vali_metric)\n",
        "\n",
        "    elapsed_time = time.time()-t0\n",
        "    #current_lr = lr_scheduler.get_last_lr()[0]\n",
        "    #print(\"epoch: %d, time(s): %.4f, train loss: %.6f, train metric: %.6f, vali loss: %.6f, vali metric: %.6f, lr : %1.2e\" \n",
        "    #      % (epoch+1, elapsed_time, train_loss, train_metric, vali_loss, vali_metric, current_lr))\n",
        "    print(\"epoch: %d, time(s): %.4f, train loss: %.6f, train metric: %.6f, vali loss: %.6f, vali metric: %.6f\" \n",
        "          % (epoch+1, elapsed_time, train_loss, train_metric, vali_loss, vali_metric))\n",
        "    \n",
        "    # update learning rate schedule\n",
        "    #lr_scheduler.step()"
      ]
    },
    {
      "cell_type": "code",
      "execution_count": 19,
      "metadata": {
        "id": "FZyfz3ZsX5Br",
        "colab": {
          "base_uri": "https://localhost:8080/",
          "height": 636
        },
        "outputId": "2479d340-9325-4812-fc37-d36fd89a750a"
      },
      "outputs": [
        {
          "output_type": "execute_result",
          "data": {
            "text/plain": [
              "<matplotlib.legend.Legend at 0x7f50dd941460>"
            ]
          },
          "metadata": {},
          "execution_count": 19
        },
        {
          "output_type": "display_data",
          "data": {
            "text/plain": [
              "<Figure size 1000x700 with 2 Axes>"
            ],
            "image/png": "[encoded data removed]"
          },
          "metadata": {}
        }
      ],
      "source": [
        "# plot training results (loss and accuracy vs epoch)\n",
        "plt.figure(figsize=(10, 7))\n",
        "plt.subplot(1,2,1)\n",
        "plt.plot(range(1,len(hist_loss)+1), hist_loss, color='green', linestyle='-', label='train loss')\n",
        "plt.plot(range(1,len(hist_val_loss)+1), hist_val_loss, color='blue', linestyle='-', label='validation loss')\n",
        "plt.xlabel('Epochs')\n",
        "plt.ylabel('Loss')\n",
        "plt.ylim(ymin = 0.0)\n",
        "plt.legend()\n",
        "plt.subplot(1,2,2)\n",
        "plt.plot(range(1,len(hist_metric)+1), hist_metric,  color='green', linestyle='-', label='train metric')\n",
        "plt.plot(range(1,len(hist_val_metric)+1),hist_val_metric, color='blue', linestyle='-', label='validation metric')\n",
        "plt.xlabel('Epochs')\n",
        "plt.ylabel('Accuracy')\n",
        "plt.ylim(ymin = 0.0)\n",
        "plt.legend()"
      ]
    },
    {
      "cell_type": "code",
      "execution_count": 20,
      "metadata": {
        "id": "Mw_C3GGq2QHa"
      },
      "outputs": [],
      "source": [
        "#test the trained model \n",
        "\n",
        "# let's test it on cpu\n",
        "model.to(torch.device(\"cpu\"))\n",
        "\n",
        "X_test_pt = X_test_pt.type(torch.float).to(torch.device(\"cpu\"))\n",
        "res = model(X_test_pt)"
      ]
    },
    {
      "cell_type": "code",
      "execution_count": 21,
      "metadata": {
        "colab": {
          "base_uri": "https://localhost:8080/"
        },
        "id": "l829A8uyuRJd",
        "outputId": "427c214f-bfd5-4c76-ef08-02e2aa62563d"
      },
      "outputs": [
        {
          "output_type": "stream",
          "name": "stdout",
          "text": [
            "Test accuracy:  0.9262499809265137\n"
          ]
        }
      ],
      "source": [
        "print('Test accuracy: ',binary_accuracy(res, torch.unsqueeze(Y_test_pt,1)).item())"
      ]
    }
  ],
  "metadata": {
    "colab": {
      "provenance": [],
      "include_colab_link": true
    },
    "kernelspec": {
      "display_name": "default:Python",
      "language": "python",
      "name": "conda-env-default-py"
    },
    "language_info": {
      "codemirror_mode": {
        "name": "ipython",
        "version": 3
      },
      "file_extension": ".py",
      "mimetype": "text/x-python",
      "name": "python",
      "nbconvert_exporter": "python",
      "pygments_lexer": "ipython3",
      "version": "3.9.7"
    },
    "accelerator": "GPU",
    "gpuClass": "standard"
  },
  "nbformat": 4,
  "nbformat_minor": 0
}