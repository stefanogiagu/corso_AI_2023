{
  "cells": [
    {
      "cell_type": "markdown",
      "metadata": {
        "id": "view-in-github",
        "colab_type": "text"
      },
      "source": [
        "<a href=\"https://colab.research.google.com/github/stefanogiagu/corso_AI_2023/blob/main/notebooks/examples/FDL_and_logistic_classification.ipynb\" target=\"_parent\"><img src=\"https://colab.research.google.com/assets/colab-badge.svg\" alt=\"Open In Colab\"/></a>"
      ]
    },
    {
      "cell_type": "markdown",
      "metadata": {
        "id": "zhR2c3_vWyg0"
      },
      "source": [
        "\n",
        "# FDL & Logistic Regression Classifiers Example\n"
      ]
    },
    {
      "cell_type": "code",
      "execution_count": 18,
      "metadata": {
        "id": "At7_8bzqWyg1"
      },
      "outputs": [],
      "source": [
        "import numpy as np\n",
        "import matplotlib.pyplot as plt\n",
        "from sklearn.linear_model import LogisticRegression\n",
        "from sklearn.linear_model import SGDClassifier\n",
        "from sklearn import datasets\n",
        "from sklearn.model_selection import train_test_split\n",
        "\n",
        "\n",
        "# IRIS dataset \n",
        "iris = datasets.load_iris()\n",
        "X = iris.data[:, :2]  # take only the first two features\n",
        "y = iris.target\n",
        "\n",
        "#select only the first two classes\n",
        "X = X[y<2]\n",
        "y = y[y<2]\n",
        "\n",
        "X_train, X_test, y_train, y_test = \\\n",
        "        train_test_split(X, y, test_size=.5, random_state=21, shuffle=True)"
      ]
    },
    {
      "cell_type": "code",
      "execution_count": 53,
      "metadata": {
        "id": "hC29ZRCkWyg2"
      },
      "outputs": [],
      "source": [
        "useLogistic = False\n",
        "\n",
        "if useLogistic == True:\n",
        "    # C: Inverse of regularization strength (smaller values means stronger regularisation)\n",
        "    # solver: algorithm to use in the optimization problem (sag: stochastic average gradient)\n",
        "    logreg = LogisticRegression(C=1.0, solver='sag', max_iter=1000)\n",
        "else:\n",
        "   # FDL with loss MSE\n",
        "\n",
        "   # Logistic regression classifier\n",
        "   # stopping criterion. If it is not None, the iterations will stop when (loss > previous_loss - tol)\n",
        "   logreg = SGDClassifier(loss='squared_error', max_iter=10000, learning_rate='adaptive', eta0=0.01)\n",
        "\n",
        "\n",
        "\n",
        "# Create an instance of Logistic Regression Classifier and fit the data.\n",
        "_ = logreg.fit(X_train, y_train)"
      ]
    },
    {
      "cell_type": "code",
      "execution_count": 52,
      "metadata": {
        "colab": {
          "base_uri": "https://localhost:8080/",
          "height": 287
        },
        "id": "70T8uCsdWyg3",
        "outputId": "b46d7236-4a4c-48a4-c6cb-c3d57b47b7da"
      },
      "outputs": [
        {
          "output_type": "display_data",
          "data": {
            "text/plain": [
              "<Figure size 400x300 with 1 Axes>"
            ],
            "image/png": "[encoded data removed]"
          },
          "metadata": {}
        }
      ],
      "source": [
        "# Plot the decision boundary. For that, we will assign a color to each\n",
        "# point in the mesh [x_min, x_max]x[y_min, y_max].\n",
        "x_min, x_max = X_train[:, 0].min() - .5, X_train[:, 0].max() + .5\n",
        "y_min, y_max = X_train[:, 1].min() - .5, X_train[:, 1].max() + .5\n",
        "h = .02  # step size in the mesh\n",
        "xx, yy = np.meshgrid(np.arange(x_min, x_max, h), np.arange(y_min, y_max, h))\n",
        "Z = logreg.predict(np.c_[xx.ravel(), yy.ravel()])\n",
        "\n",
        "# Put the result into a color plot\n",
        "Z = Z.reshape(xx.shape)\n",
        "plt.figure(1, figsize=(4, 3))\n",
        "plt.pcolormesh(xx, yy, Z, cmap=plt.cm.Paired)\n",
        "\n",
        "# Plot also the training points\n",
        "plt.scatter(X_train[:, 0], X_train[:, 1], c=y_train, edgecolors='k', cmap=plt.cm.Paired)\n",
        "plt.xlabel('Sepal length')\n",
        "plt.ylabel('Sepal width')\n",
        "\n",
        "plt.xlim(xx.min(), xx.max())\n",
        "plt.ylim(yy.min(), yy.max())\n",
        "plt.xticks(())\n",
        "plt.yticks(())\n",
        "\n",
        "plt.show()"
      ]
    },
    {
      "cell_type": "code",
      "execution_count": 54,
      "metadata": {
        "colab": {
          "base_uri": "https://localhost:8080/"
        },
        "id": "cftovcC2Wyg4",
        "outputId": "83e6595b-a062-48de-d08d-1be1d804cdbe"
      },
      "outputs": [
        {
          "output_type": "stream",
          "name": "stdout",
          "text": [
            "Accuracy: 1.0\n"
          ]
        }
      ],
      "source": [
        "acc = logreg.score(X_test,y_test)\n",
        "print('Accuracy:', acc)"
      ]
    }
  ],
  "metadata": {
    "kernelspec": {
      "display_name": "Python 3",
      "language": "python",
      "name": "python3"
    },
    "language_info": {
      "codemirror_mode": {
        "name": "ipython",
        "version": 3
      },
      "file_extension": ".py",
      "mimetype": "text/x-python",
      "name": "python",
      "nbconvert_exporter": "python",
      "pygments_lexer": "ipython3",
      "version": "3.5.2"
    },
    "colab": {
      "provenance": [],
      "include_colab_link": true
    }
  },
  "nbformat": 4,
  "nbformat_minor": 0
}