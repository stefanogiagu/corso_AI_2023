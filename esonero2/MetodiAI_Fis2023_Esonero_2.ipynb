{
  "nbformat": 4,
  "nbformat_minor": 0,
  "metadata": {
    "colab": {
      "provenance": [],
      "authorship_tag": "ABX9TyPqtGSSknFTXZ/oaa6Albar",
      "include_colab_link": true
    },
    "kernelspec": {
      "name": "python3",
      "display_name": "Python 3"
    },
    "language_info": {
      "name": "python"
    }
  },
  "cells": [
    {
      "cell_type": "markdown",
      "metadata": {
        "id": "view-in-github",
        "colab_type": "text"
      },
      "source": [
        "<a href=\"https://colab.research.google.com/github/stefanogiagu/corso_AI_2023/blob/main/esonero2/MetodiAI_Fis2023_Esonero_2.ipynb\" target=\"_parent\"><img src=\"https://colab.research.google.com/assets/colab-badge.svg\" alt=\"Open In Colab\"/></a>"
      ]
    },
    {
      "cell_type": "markdown",
      "source": [
        "# Seconda Prova Esonero - Metodi AI e Machine Learning per la fisica\n",
        "### 15.6.2023 - AA 2022/23 - Docente: S. Giagu\n",
        "\n",
        "\n",
        "> **Regole:**\n",
        "\n",
        "*   **tempo a disposizione:** 2h' + 20' per scaricare il dataset / fare l'upload del notebook a fine esonero\n",
        "\n",
        "*   compilare con i vostri dati i campi della cella che segue e poi eseguire la cella verificando che i dati printati corrispondano. L'esecuzione della cella scarica anche il dataset necessartio (~10' di tempo in media)\n",
        "*   risolvere i quesiti/compiti indicati nella cella *Descrizione del compito* usando questo notebook\n",
        "*   una volta completato il compito sottomettere il notebook nel apposito folder sul sito e-learning del corso disponibile al link: <p>\n",
        "[consegna esonero](https://elearning.uniroma1.it/mod/assign/view.php?id=567302)<p>\n",
        "NOTA BENE: una volta sottomesso il notebook non sono più possibili ulteriori modifiche"
      ],
      "metadata": {
        "id": "YtBvhAL0XXMb"
      }
    },
    {
      "cell_type": "code",
      "source": [
        "#@ Dati Personali\n",
        "import os\n",
        "\n",
        "Nome = 'Stefano'  #@param {type: \"string\"}\n",
        "Cognome = 'Giagu' #@param {type: \"string\"}\n",
        "NumeroMatricola = 12345678 #@param {type: \"number\"}\n",
        "\n",
        "if NumeroMatricola == 12345678:\n",
        "  print('\\033[1;31m Inserisci il numero di matricola corretto!!!!')\n",
        "else:\n",
        "  print('Download dataset ...')\n",
        "  !wget http://giagu.web.cern.ch/giagu/CERN/dataset_c.zip\n",
        "  !unzip -q dataset_c.zip\n",
        "  print('Done')"
      ],
      "metadata": {
        "id": "xaDyGsh6YorW",
        "cellView": "form"
      },
      "execution_count": null,
      "outputs": []
    },
    {
      "cell_type": "markdown",
      "source": [
        "# Descrizione del compito:\n",
        "\n",
        "Viene fornito un dataset costituto da:\n",
        "\n",
        "*   50k imagini jpeg di quadranti di orologi analogici (shape: 1x100x100)\n",
        "*   un file numpy compresso (*.npz*) che contiene due vettory numpy che forniscono per ciascuna immagine il valore dell'ora e dei minuti corrispondente\n",
        "\n",
        "Viene fornito il codice per costruire un Dataset pytorch fromato per ogni campione da un'immagine, una label discreta corrispondete al valore dell'ora mostrata dall'orologio (0,1,2,3...,11), e un target continuo corrispondente al valore dei minuti.\n",
        "\n",
        "\n",
        "\n",
        "**È richiesto di risolvere i seguenti task:**\n",
        "\n",
        "1.   graficare qualche esempio di immagine del dataset e l'orario corrispondente (ore:minuti)\n",
        "2.   suddividere il pytorch dataset in quattro sub-datastes di training, validation, test e resto, costituti rispettivamente da 10k eventi, 1k eventi, 1k eventi, e 38k eventi (NOTA: usare eventualmente più di 10k eventi per migliorare le prestazioni fa si che il training si allunghi notevolmente, quindi pensateci bene prima di seguire questa strada)\n",
        "3.   allenare un modello convoluzionale in modo che predica (task regressione) il target continuo del valore dei minuti associato ad ogni immagine, e stimarne opporunamente le prestazioni\n",
        "4.   prendere 4 esempi random dal test set e predirne i minuti, graficando l'immagine corrispondente con titolo i minuti predetti.\n",
        "5.   provare a modificare il modello in modo che funzioni in modalità multi-task: classificazione + regressione, producendo in output la predizione della classe oraria, e il valore continuo del target dei minuti. Si richiede di: scrivere il modello pytorch + definire le loss/metriche opportunem scrivere il training loop necessario per allenare il modello. Non è richiesto invece l'allenamento del modello stesso che richiede tempi più lunghi del modello di sola classificazione.\n",
        "\n",
        "* commentare opportunamente i risultati ottenuti in ogni punto"
      ],
      "metadata": {
        "id": "U2gdMj7cYwtY"
      }
    },
    {
      "cell_type": "code",
      "source": [
        "# Lettura dei dati e costruzione del pytorch dataset\n",
        "\n",
        "import os.path\n",
        "from torchsummary import summary\n",
        "\n",
        "import torch\n",
        "import torchvision\n",
        "print(torch.__version__)\n",
        "print(torchvision.__version__)\n",
        "\n",
        "from torch import nn, optim\n",
        "import torch.nn.functional as F\n",
        "from torchvision import datasets, transforms, models\n",
        "\n",
        "\n",
        "# legge label e target\n",
        "import numpy as np\n",
        "import matplotlib.pyplot as plt\n",
        "\n",
        "from PIL import Image\n",
        "\n",
        "filet = np.load('dataset_c/targets.npz')\n",
        "\n",
        "hlabel = filet['hlabel']\n",
        "mvalue = filet['mvalue']\n",
        "\n",
        "hlabel = torch.Tensor(hlabel).int()\n",
        "mvalue = torch.Tensor(mvalue).float()\n",
        "\n",
        "print(hlabel.shape)\n",
        "print(mvalue.shape)\n",
        "\n",
        "\n",
        "# crea il custom dataset\n",
        "from torch.utils.data import Dataset, DataLoader\n",
        "import os\n",
        "import natsort\n",
        "\n",
        "class CustomDataSet(Dataset):\n",
        "    def __init__(self, main_dir, transform):\n",
        "        self.main_dir = main_dir\n",
        "        self.transform = transform\n",
        "        all_imgs = os.listdir(main_dir)\n",
        "        self.total_imgs = natsort.natsorted(all_imgs)\n",
        "\n",
        "    def __len__(self):\n",
        "        return len(self.total_imgs)\n",
        "\n",
        "    def __getitem__(self, idx):\n",
        "        img_loc = os.path.join(self.main_dir, self.total_imgs[idx])\n",
        "        image = Image.open(img_loc).convert('L')\n",
        "        tensor_image = self.transform(image)\n",
        "        y1 = hlabel[idx]\n",
        "        y2 = mvalue[idx]\n",
        "        return tensor_image, y1, y2 #ogni evento è formato da il tensore pytroch dell'immagine, un tensore intero della label orario, e un tensore continuo del target dei minuti\n",
        "\n",
        "\n",
        "train_transforms = transforms.Compose([\n",
        "                                       transforms.Resize((100,100)), #riscala la dimensione delle immagini da 300x300 a 100x100 per ridurre i tempi di training\n",
        "                                       transforms.ToTensor(), #converte in tensori torch\n",
        "                                      ])\n",
        "\n",
        "\n",
        "\n",
        "# custom pytorch dataset\n",
        "dataset = CustomDataSet('dataset_c/images/', transform=train_transforms)\n",
        "\n",
        "print('Dataset size: ', len(dataset))"
      ],
      "metadata": {
        "id": "LtrWphOBY0Xf"
      },
      "execution_count": null,
      "outputs": []
    },
    {
      "cell_type": "code",
      "source": [
        "# ... codice"
      ],
      "metadata": {
        "id": "Bkj62466Nuf3"
      },
      "execution_count": null,
      "outputs": []
    }
  ]
}