{
  "nbformat": 4,
  "nbformat_minor": 0,
  "metadata": {
    "colab": {
      "provenance": [],
      "mount_file_id": "1OsS4d2CDapDMu6o4pLiRMWVcyFMJqvCq",
      "authorship_tag": "ABX9TyMoBgzGp+F77XY5rh/CCydt",
      "include_colab_link": true
    },
    "kernelspec": {
      "name": "python3",
      "display_name": "Python 3"
    },
    "language_info": {
      "name": "python"
    }
  },
  "cells": [
    {
      "cell_type": "markdown",
      "metadata": {
        "id": "view-in-github",
        "colab_type": "text"
      },
      "source": [
        "<a href=\"https://colab.research.google.com/github/stefanogiagu/corso_AI_2023/blob/main/appello_7.9.2023/MetodiAI_Fis2023_ProvaPratica_7_9_2023.ipynb\" target=\"_parent\"><img src=\"https://colab.research.google.com/assets/colab-badge.svg\" alt=\"Open In Colab\"/></a>"
      ]
    },
    {
      "cell_type": "markdown",
      "source": [
        "# Prova Pratica - Metodi AI e Machine Learning per la fisica\n",
        "### 7.9.2023 - AA 2022/23 - Docente: S. Giagu\n",
        "\n",
        "\n",
        "> **Regole:**\n",
        "\n",
        "*   **tempo a disposizione:**\n",
        "* prova completa 2h30'\n",
        "\n",
        "*   compilare con i vostri dati i campi della cella che segue e poi eseguire la cella verificando che i dati printati corrispondano. L'esecuzione della cella scarica anche il dataset necessario\n",
        "*   risolvere i quesiti/compiti indicati nella cella *Descrizione del compito* realtivi alla tipologia di prova che si vuole sostenere (completa o recupero esonero) usando questo notebook\n",
        "*   una volta completato il compito sottomettere il notebook nel apposito folder sul sito e-learning del corso disponibile al link: <p>\n",
        "[consegna esonero](https://elearning.uniroma1.it/mod/assign/view.php?id=571368)<p>\n",
        "NOTA BENE: una volta sottomesso il notebook non sono più possibili ulteriori modifiche"
      ],
      "metadata": {
        "id": "YtBvhAL0XXMb"
      }
    },
    {
      "cell_type": "code",
      "source": [
        "#@ Dati Personali\n",
        "import os\n",
        "\n",
        "Nome = 'Stefano'  #@param {type: \"string\"}\n",
        "Cognome = 'Giagu' #@param {type: \"string\"}\n",
        "NumeroMatricola = 12345678 #@param {type: \"number\"}\n",
        "TipologiaProva = \"Prova Completa\" #@param [\"Prova Completa\",\"Recupero 1 Esonero\", \"Recupero 2 Esonero\" ] {type: \"string\"}\n",
        "\n",
        "if NumeroMatricola == 12345678:\n",
        "  print('\\033[1;31m Inserisci il numero di matricola corretto!!!!')\n",
        "else:\n",
        "  print('Download dataset ...')\n",
        "  !wget http://giagu.web.cern.ch/giagu/CERN/pp_7.9.2023_dataset.npz\n",
        "  print('Done')"
      ],
      "metadata": {
        "id": "xaDyGsh6YorW",
        "cellView": "form",
        "colab": {
          "base_uri": "https://localhost:8080/"
        },
        "outputId": "fa859edc-2163-4363-d769-f0f2dcd06ce4"
      },
      "execution_count": null,
      "outputs": [
        {
          "output_type": "stream",
          "name": "stdout",
          "text": [
            "\u001b[1;31m Inserisci il numero di matricola corretto!!!!\n"
          ]
        }
      ]
    },
    {
      "cell_type": "markdown",
      "source": [
        "# Descrizione del compito:\n",
        "\n",
        "Viene fornito un dataset costituto da due array numpy contenuti nel file compresso *pp_7.9_2023_dataset.npz*. Il file contiene gli array numpy *data* e *label*. Il primo contiene 10k esempi, ognuno costituito da 4096 features, il secondo le label associate.\n",
        "\n",
        "<p>\n",
        "<p>\n",
        "\n",
        "###È richiesto di risolvere i seguenti task:###\n",
        "\n",
        "1.   leggere il dataset, contare il numero di label presenti, e quantificare il bilanciamento del dataset stesso rispetto alle label;\n",
        "2.   allenare un classificatore di tipo *RandomForest*, ottmizzando il numero di alberi utilizzato dall'algoritmo rispetto all'out of sample score;\n",
        "3.   stimare le prestazioni del modello allenato in termini di *accuracy media*, *F1 score*, *Precision score*, *Recall score*, e infine plottare la matrice di confusione;\n",
        "4.   visualizzare il dataset in 2D usando il metodo UMAP (suggerimento: usare valori piccoli (eg. preservare le strutture locali) per i parametri *n_neighbors* e *min_dist*), colorando i punti in funzione del valore della label predetta e della label vera (due plot affiancati);\n",
        "5.   applicare l'algoritmo di clustering *DBSCAN* al campione, e trovare il valore del parametro *eps* di DBSCAN, per cui il numero di cluster trovati dall'algoritmo risulta vicino al numero di classi del dataset;\n",
        "6.   plottare i punti 2D di UMAP precedente, colorando i punti con l'indice di cluster trovato da DBSCAN.\n",
        "\n",
        "* commentare opportunamente i risultati ottenuti in ogni punto."
      ],
      "metadata": {
        "id": "U2gdMj7cYwtY"
      }
    },
    {
      "cell_type": "code",
      "source": [
        "# ... codice"
      ],
      "metadata": {
        "id": "Bkj62466Nuf3"
      },
      "execution_count": null,
      "outputs": []
    }
  ]
}