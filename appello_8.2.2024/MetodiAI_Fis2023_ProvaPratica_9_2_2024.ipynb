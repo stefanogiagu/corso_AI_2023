{
  "nbformat": 4,
  "nbformat_minor": 0,
  "metadata": {
    "colab": {
      "provenance": [],
      "mount_file_id": "1OsS4d2CDapDMu6o4pLiRMWVcyFMJqvCq",
      "authorship_tag": "ABX9TyPRTGO9Rda9Vw3aYX4rz30C",
      "include_colab_link": true
    },
    "kernelspec": {
      "name": "python3",
      "display_name": "Python 3"
    },
    "language_info": {
      "name": "python"
    }
  },
  "cells": [
    {
      "cell_type": "markdown",
      "metadata": {
        "id": "view-in-github",
        "colab_type": "text"
      },
      "source": [
        "<a href=\"https://colab.research.google.com/github/stefanogiagu/corso_AI_2023/blob/main/appello_8.2.2024/MetodiAI_Fis2023_ProvaPratica_9_2_2024.ipynb\" target=\"_parent\"><img src=\"https://colab.research.google.com/assets/colab-badge.svg\" alt=\"Open In Colab\"/></a>"
      ]
    },
    {
      "cell_type": "markdown",
      "source": [
        "# Prova Pratica - Metodi AI e Machine Learning per la Fisica\n",
        "### 9.2.2024 - AA 2022/23 - Docente: S. Giagu\n",
        "\n",
        "\n",
        "> **Regole:**\n",
        "\n",
        "*   **tempo a disposizione:**\n",
        "* prova completa 2h30'\n",
        "\n",
        "*   compilare con i vostri dati i campi della cella che segue e poi eseguire la cella verificando che i dati printati corrispondano. L'esecuzione della cella scarica anche il dataset necessario\n",
        "*   risolvere i quesiti/compiti indicati nella cella *Descrizione del compito* realtivi alla tipologia di prova che si vuole sostenere (completa o recupero esonero) usando questo notebook\n",
        "*   una volta completato il compito scaricare il notebook ed inviarlo via e-mail all'indirizzo: *stefano.giagu@uniroma1.it*"
      ],
      "metadata": {
        "id": "YtBvhAL0XXMb"
      }
    },
    {
      "cell_type": "code",
      "source": [
        "#@ Dati Personali\n",
        "import os\n",
        "\n",
        "Nome = 'Stefano'  #@param {type: \"string\"}\n",
        "Cognome = 'Giagu' #@param {type: \"string\"}\n",
        "NumeroMatricola = 12345678 #@param {type: \"number\"}\n",
        "TipologiaProva = \"Prova Completa\" #@param [\"Prova Completa\",\"Recupero 1 Esonero\", \"Recupero 2 Esonero\" ] {type: \"string\"}\n",
        "\n",
        "if NumeroMatricola == 12345678:\n",
        "  print('\\033[1;31m Inserisci il numero di matricola corretto!!!!')\n",
        "else:\n",
        "  print('Downloading datasets ...')\n",
        "  !wget http://giagu.web.cern.ch/giagu/CERN/dati_normali.csv\n",
        "  !wget http://giagu.web.cern.ch/giagu/CERN/dati_anomali.csv\n",
        "  print('Done')"
      ],
      "metadata": {
        "id": "xaDyGsh6YorW",
        "cellView": "form",
        "colab": {
          "base_uri": "https://localhost:8080/"
        },
        "outputId": "869a1f33-6a13-45f9-c874-4dfd467a2d8f"
      },
      "execution_count": null,
      "outputs": [
        {
          "output_type": "stream",
          "name": "stdout",
          "text": [
            "\u001b[1;31m Inserisci il numero di matricola corretto!!!!\n"
          ]
        }
      ]
    },
    {
      "cell_type": "markdown",
      "source": [
        "# Descrizione del compito:\n",
        "\n",
        "Viene fornito un dataset costituto da due file in formato **csv**, contenuti rispettivamente nei file: *dati_normali.csv* e *dati_anomali.csv*. I database tabulari contengono ciascuno 10000 eventi, in cui ogni evento è rappresentato da 30 feature (le colonne del database). Un file contiene eventi della categoria *eventi normali*, l'altro della categoria *eventi anomali*.\n",
        "\n",
        "<p>\n",
        "<p>\n",
        "\n",
        "###È richiesto di risolvere il maggior numero possibile dei seguenti task:###\n",
        "\n",
        "1.   leggere i dataset in modo opportuno;\n",
        "2.   usando solo il campione di *eventi normali*, costruire una trasformazione a componenti principali che riduca la dimensione del campione da una dimensione 30 ad una dimensione 2;\n",
        "3.   plottare in modo opportuno le due componenti principali per gli eventi del campione *eventi normali* e per quello degli *eventi anomali*;\n",
        "4.   applicare la trasformazione pca inversa ai dati del campione *eventi normali* e a quello degli *eventi anomali*, e calcolare l'MSE, per ogni evento dei due campioni, tra l'evento originali e quello ricostruito dopo aver applicato la trasformazione pca seguita dalla trasformazione inversa. Graficare l'istogramma del MSE per i due campioni e confrontare le distribuzioni ottenute;\n",
        "5.   a partire da tale istogramma, calcolare la curva ROC, l'accuracy, la precision, e il recall massimi ottenibili;\n",
        "6.   applicare un algoritmo di clustering basato su gaussian mixture model al campione *eventi normali*, assumendo un'unica componente gaussiana;\n",
        "7.   per ogni evento dei due campioni *eventi normali* e *eventi anomali* calcolare la log-likelihood fornita dal modello GMM costruito al punto 6, e graficare l'istogramma della log-likelihood per i due campioni confrontando le distribuzioni ottenute;\n",
        "8.   a partire da tale istogramma, calcolare la curva ROC, l'accuracy, la precision, e il recall massimi ottenibili, e confrontare con i risultati ottenuti al punto 5.\n",
        "\n",
        "* commentare opportunamente i risultati ottenuti in ogni punto."
      ],
      "metadata": {
        "id": "U2gdMj7cYwtY"
      }
    },
    {
      "cell_type": "code",
      "source": [
        "# ... codice"
      ],
      "metadata": {
        "id": "Bkj62466Nuf3"
      },
      "execution_count": null,
      "outputs": []
    }
  ]
}