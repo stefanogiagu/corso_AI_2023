{
  "cells": [
    {
      "cell_type": "markdown",
      "metadata": {
        "colab_type": "text",
        "id": "view-in-github"
      },
      "source": [
        "<a href=\"https://colab.research.google.com/github/stefanogiagu/corso_AI_2022/blob/main/esempi/Esempio_primoesonero_1.ipynb\" target=\"_parent\"><img src=\"https://colab.research.google.com/assets/colab-badge.svg\" alt=\"Open In Colab\"/></a>"
      ]
    },
    {
      "cell_type": "markdown",
      "metadata": {
        "id": "xM8c-0uxqDVB"
      },
      "source": [
        "# Esempio Prima Prova Esonero - Metodi AI e Machine Learning per la fisica \n"
      ]
    },
    {
      "cell_type": "code",
      "execution_count": null,
      "metadata": {
        "id": "ajR3B2FXYtdp"
      },
      "outputs": [],
      "source": [
        "!rm -rf dati_ES1_2021.csv.gz labels_ES1_2021.csv.gz\n",
        "!rm -rf dati_ES1_2021.csv labels_ES1_2021.csv\n",
        "!wget http://giagu.web.cern.ch/giagu/CERN/dati_ES1_2021.csv.gz\n",
        "!wget http://giagu.web.cern.ch/giagu/CERN/labels_ES1_2021.csv.gz\n",
        "!gunzip dati_ES1_2021.csv.gz \n",
        "!gunzip labels_ES1_2021.csv.gz  "
      ]
    },
    {
      "attachments": {},
      "cell_type": "markdown",
      "metadata": {
        "id": "TNv4Mq5jrOS5"
      },
      "source": [
        "# Descrizione del compito:\n",
        "\n",
        "### Dataset:\n",
        "\n",
        "il dataset fornito è costituito da due file formato *.csv*: *dati_ES1_2021.csv* e *labels_ES1_2021.csv*\n",
        "*   *dati_ES1_2021*: contiene in formato tabulare un dataset costituito da 581012 eventi ciascuno descritto da 54 feature di alto livello \n",
        "*   *labels_ES1_2021*: contiene in formato tabulare una label di classe per ciascuno degli eventi contenuti nel file precedente. Sono presenti 7 classi con label [1,2,3,4,5,6,7] \n",
        "\n",
        "**È richiesto:**\n",
        "\n",
        "1.   di effettuare una rapida analisi iniziale delle caratteristiche principali del campione fornito, commentando su quelle che riteniate più importanti \n",
        "2.   di costruire un campione di training e uno di test, con feature normalizzate, e in modo che i campioni risultino bilanciati in termini di eventi appartenenti alla diverse classi\n",
        "3.   di identificare le 5 feature con maggiore potere discriminante rispetto agli eventi delle differenti classi utilizzando il modello di sklearn: sklearn.ensemble.ExtraTreesClassifier\n",
        "4.   di allenare ed ottimizzare rispetto alla massima prestazione raggiungibile, un classificatore tipo random forest sia utilizzando tutte le 54 feature disponibili, riportando le prestazioni del classificatore"
      ]
    }
  ],
  "metadata": {
    "colab": {
      "collapsed_sections": [],
      "include_colab_link": true,
      "name": "Esempio_primoesonero_1.ipynb",
      "provenance": []
    },
    "kernelspec": {
      "display_name": "Python 3",
      "name": "python3"
    },
    "language_info": {
      "name": "python"
    }
  },
  "nbformat": 4,
  "nbformat_minor": 0
}
