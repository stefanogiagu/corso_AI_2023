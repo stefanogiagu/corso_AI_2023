{
  "nbformat": 4,
  "nbformat_minor": 0,
  "metadata": {
    "colab": {
      "provenance": [],
      "authorship_tag": "ABX9TyNshrck+NQpnTh6v4HFapqr",
      "include_colab_link": true
    },
    "kernelspec": {
      "name": "python3",
      "display_name": "Python 3"
    },
    "language_info": {
      "name": "python"
    }
  },
  "cells": [
    {
      "cell_type": "markdown",
      "metadata": {
        "id": "view-in-github",
        "colab_type": "text"
      },
      "source": [
        "<a href=\"https://colab.research.google.com/github/stefanogiagu/corso_AI_2023/blob/main/esonero1/MetodiAI_Fis2023_Esonero_1.ipynb\" target=\"_parent\"><img src=\"https://colab.research.google.com/assets/colab-badge.svg\" alt=\"Open In Colab\"/></a>"
      ]
    },
    {
      "cell_type": "markdown",
      "metadata": {
        "id": "xM8c-0uxqDVB"
      },
      "source": [
        "# Prima Prova Esonero - Metodi AI e Machine Learning per la fisica \n",
        "### 5.4.2023 - AA 2022/23 - Docente: S. Giagu\n",
        "\n",
        "\n",
        "> **Regole:**\n",
        "\n",
        "*   **tempo a disposizione:** 1h45'\n",
        "\n",
        "*   compilare con i vostri dati i campi della cella che segue e poi eseguire la cella verificando che i dati printati corrispondano\n",
        "*   risolvere i quesiti/compiti indicati nella cella *Descrizione del compito* usando questo notebook \n",
        "*   una volta completato il compito sottomettere il notebook nel apposito folder sul sito e-learning del corso disponibile al link: <p>\n",
        "[consegna esonero](https://elearning.uniroma1.it/mod/assign/view.php?id=551290)<p>\n",
        "NOTA BENE: una volta sottomesso il notebook non sono più possibili ulteriori modifiche"
      ]
    },
    {
      "cell_type": "code",
      "metadata": {
        "cellView": "form",
        "id": "cAUd9VHBqlPh",
        "colab": {
          "base_uri": "https://localhost:8080/"
        },
        "outputId": "114a0905-1f27-4c97-f32e-309a972d0f85"
      },
      "source": [
        "#@ Dati Personali\n",
        "import os\n",
        "\n",
        "Nome = 'Stefano'  #@param {type: \"string\"}\n",
        "Cognome = 'Giagu' #@param {type: \"string\"}\n",
        "NumeroMatricola = 12345678 #@param {type: \"number\"}\n",
        "\n",
        "if NumeroMatricola == 12345678:\n",
        "  print('\\033[1;31m Inserisci il numero di matricola corretto!!!!') \n",
        "else:\n",
        "  print('Done')"
      ],
      "execution_count": null,
      "outputs": [
        {
          "output_type": "stream",
          "name": "stdout",
          "text": [
            "\u001b[1;31m Inserisci il numero di matricola corretto!!!!\n"
          ]
        }
      ]
    },
    {
      "cell_type": "markdown",
      "metadata": {
        "id": "TNv4Mq5jrOS5"
      },
      "source": [
        "# Descrizione del compito:\n",
        "\n",
        "\n",
        "**Risolvere i seguenti compiti:**\n",
        "\n",
        "1.   Generare due dataset con le seguenti caratteristiche:\n",
        "- ogni dataset deve essere costituito da 10000 esempi (eventi)\n",
        "- ogni evento deve essere caratterizzato da 5 osservabili (features) $x_0, x_1, x_2, x_3, x_4$ e da 1 target continuo $y$, legati dalla relazione funzionale:\n",
        "\n",
        "> $ y = 10\\sin(\\pi x_0 x_1) + 20(x_2-0.5)^2 + 10x_3 + 5x_4 + \\sigma*N(0,1)$\n",
        "\n",
        "> in cui $N(0,1)$ rappresenta un rumore random estratto per ogni evento del dataset in accordo ad una distribuzione normale a media zero e varianza 1;\n",
        "> $\\sigma$ è una costante che assume valore $0.5$ per il primo dataset, e $5$ per il secondo dataset\n",
        "\n",
        "- per ogni evento di ciascun dataset, le feature $x_0, x_1, x_2, x_3, x_4$ è sono estratte indipendentemente l'una dall'altra da una distribuzione uniforme nell'intervallo $[0,1]$.\n",
        "\n",
        "2. Graficare gli scatter plot delle coppie di features ($(x_0,x_1), (x_0,x_2), \\cdots , (x_4,x_4)$) colorando ciascun punto in accordo al valore del target $y$, per i due dataset (produrre una matrice di 5x5 plots per ciasun dataset).\n",
        "\n",
        "3. Dividere i due dataset in training, validation e test set, con frazioni 60%:20%:20%;\n",
        "\n",
        "4. Allenare un algoritmo di regressione basato su k-NN a predire il target $y$ a partire da un valore di input features $x_0,x_1,\\cdots,x_4$, per ciascunodei due dataset e stimarne le prestazioni in termini di MSE e MAE.\n",
        "\n",
        "5. Graficare per entrambi i dataset l'andamento dell'MSE in funzione del numero di primi vicini del modello $k$, per il campione di training e per quello di validazione. Commentare gli anadamenti osservati.\n",
        "\n",
        "5. Graficare per i due modelli il target predetto ($\\hat{y}$) vs $y$ vero e l'istogramma di $y-\\hat{y}$.\n",
        "\n",
        "6. Dire se è possibile, per il dataset più rumoroso (quello con $\\sigma=5$) ottenere prestazioni migliori usando un regressore basato su una RandomForest. Commentare il risultato osservato.\n",
        "\n",
        "* commentare opportunamente i risultati ottenuti in ogni punto"
      ]
    },
    {
      "cell_type": "code",
      "metadata": {
        "id": "-04NQU3L2kId"
      },
      "source": [
        "# codice ..."
      ],
      "execution_count": null,
      "outputs": []
    }
  ]
}